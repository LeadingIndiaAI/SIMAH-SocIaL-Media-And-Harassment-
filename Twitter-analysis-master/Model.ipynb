{
  "cells": [
    {
      "metadata": {
        "trusted": true
      },
      "cell_type": "code",
      "source": "#importing keras\nfrom keras.preprocessing.text import Tokenizer\nfrom keras.preprocessing.sequence import pad_sequences\nfrom keras.models import Sequential\nfrom keras.layers import Activation, Dense, Dropout, Embedding, Flatten, Conv1D, MaxPooling1D, LSTM, Input, SpatialDropout1D\nfrom keras import utils\nfrom keras.callbacks import ReduceLROnPlateau, EarlyStopping",
      "execution_count": 1,
      "outputs": [
        {
          "output_type": "stream",
          "text": "/home/nbuser/anaconda3_420/lib/python3.5/site-packages/h5py/__init__.py:36: FutureWarning: Conversion of the second argument of issubdtype from `float` to `np.floating` is deprecated. In future, it will be treated as `np.float64 == np.dtype(float).type`.\n  from ._conv import register_converters as _register_converters\nUsing TensorFlow backend.\n",
          "name": "stderr"
        }
      ]
    },
    {
      "metadata": {
        "trusted": true
      },
      "cell_type": "code",
      "source": "# DataFrame\nimport pandas as pd\n# nltk\nimport nltk\nfrom nltk.corpus import stopwords\nfrom  nltk.stem import SnowballStemmer\n#numpy\nimport numpy as np\n#utility\nimport re",
      "execution_count": 2,
      "outputs": []
    },
    {
      "metadata": {
        "trusted": true
      },
      "cell_type": "code",
      "source": "# TEXT CLENAING\nTEXT_CLEANING_RE = \"@\\S+|https?:\\S+|http?:\\S|[^A-Za-z0-9]+\"",
      "execution_count": 3,
      "outputs": []
    },
    {
      "metadata": {
        "trusted": true
      },
      "cell_type": "code",
      "source": "#Load Dataset\ndf = pd.read_csv(\"~/library/sentiment_data.csv\")",
      "execution_count": 4,
      "outputs": []
    },
    {
      "metadata": {
        "trusted": true
      },
      "cell_type": "code",
      "source": "vf = pd.read_csv(\"~/library/Validation_data_competition.csv\")",
      "execution_count": 5,
      "outputs": []
    },
    {
      "metadata": {
        "trusted": true,
        "scrolled": false
      },
      "cell_type": "code",
      "source": "#Load Dataset\ntf = pd.read_csv(\"~/library/testset-competition.csv\",)",
      "execution_count": 6,
      "outputs": []
    },
    {
      "metadata": {
        "trusted": true,
        "scrolled": true
      },
      "cell_type": "code",
      "source": "tokenizer = Tokenizer(num_words=None, split=' ')\ntokenizer.fit_on_texts(df['tweet_content'].values)\nx = tokenizer.texts_to_sequences(df['tweet_content'].values)\nx = pad_sequences(x, maxlen=20, padding='post')\nprint(x[54])",
      "execution_count": 7,
      "outputs": [
        {
          "output_type": "stream",
          "text": "[   6 4324  367    5   92    8   79    0    0    0    0    0    0    0\n    0    0    0    0    0    0]\n",
          "name": "stdout"
        }
      ]
    },
    {
      "metadata": {
        "trusted": true
      },
      "cell_type": "code",
      "source": "y = tokenizer.texts_to_sequences(vf['tweet_content'].values)\ny = pad_sequences(y, maxlen=20, padding='post')\nprint(y[3])",
      "execution_count": 8,
      "outputs": [
        {
          "output_type": "stream",
          "text": "[225  16 873 310 165 420 281   1   1   4   1 836   1  44   1 923   1   3\n   0   0]\n",
          "name": "stdout"
        }
      ]
    },
    {
      "metadata": {
        "trusted": true
      },
      "cell_type": "code",
      "source": "from sklearn.model_selection import train_test_split\nx_test = df.iloc[:,4:].values\ny_test=vf.iloc[:,3:].values",
      "execution_count": 9,
      "outputs": []
    },
    {
      "metadata": {
        "trusted": true
      },
      "cell_type": "code",
      "source": "batch_size = 16\nepochs = 5",
      "execution_count": 10,
      "outputs": []
    },
    {
      "metadata": {
        "trusted": true
      },
      "cell_type": "code",
      "source": "model = Sequential()\nmodel.add(Embedding(14645, 256))\nmodel.add(Dropout(0.4))\nmodel.add(LSTM(32, dropout=0.4, recurrent_dropout=0.1))\nmodel.add(Dense(4, activation='sigmoid'))\nmodel.summary()",
      "execution_count": 11,
      "outputs": [
        {
          "output_type": "stream",
          "text": "_________________________________________________________________\nLayer (type)                 Output Shape              Param #   \n=================================================================\nembedding_1 (Embedding)      (None, None, 256)         3749120   \n_________________________________________________________________\ndropout_1 (Dropout)          (None, None, 256)         0         \n_________________________________________________________________\nlstm_1 (LSTM)                (None, 32)                36992     \n_________________________________________________________________\ndense_1 (Dense)              (None, 4)                 132       \n=================================================================\nTotal params: 3,786,244\nTrainable params: 3,786,244\nNon-trainable params: 0\n_________________________________________________________________\n",
          "name": "stdout"
        }
      ]
    },
    {
      "metadata": {
        "trusted": true
      },
      "cell_type": "code",
      "source": "model.compile(loss='binary_crossentropy',\n              optimizer=\"adam\",\n              metrics=['accuracy'])",
      "execution_count": 12,
      "outputs": []
    },
    {
      "metadata": {
        "trusted": true,
        "scrolled": true
      },
      "cell_type": "code",
      "source": "history=model.fit(x, x_test,\n          batch_size=batch_size,\n          epochs=epochs,\n          verbose=1,\n          validation_data=(y, y_test))\n\n# Plot training & validation accuracy values\nplt.plot(history.history['acc'])\nplt.plot(history.history['val_acc'])\nplt.title('Model accuracy')\nplt.ylabel('Accuracy')\nplt.xlabel('Epoch')\nplt.legend(['Train', 'Test'], loc='upper left')\nplt.show()\n\n# Plot training & validation loss values\nplt.plot(history.history['loss'])\nplt.plot(history.history['val_loss'])\nplt.title('Model loss')\nplt.ylabel('Loss')\nplt.xlabel('Epoch')\nplt.legend(['Train', 'Test'], loc='upper left')\nplt.show()",
      "execution_count": null,
      "outputs": [
        {
          "output_type": "stream",
          "text": "Train on 9087 samples, validate on 2125 samples\nEpoch 1/5\n9087/9087 [==============================] - 60s - loss: 0.2708 - acc: 0.8861 - val_loss: 0.1855 - val_acc: 0.9486\nEpoch 2/5\n9087/9087 [==============================] - 56s - loss: 0.1479 - acc: 0.9551 - val_loss: 0.1916 - val_acc: 0.9415\nEpoch 3/5\n9087/9087 [==============================] - 58s - loss: 0.0988 - acc: 0.9701 - val_loss: 0.2318 - val_acc: 0.9309\nEpoch 4/5\n9087/9087 [==============================] - 63s - loss: 0.0664 - acc: 0.9787 - val_loss: 0.2750 - val_acc: 0.9171\nEpoch 5/5\n8256/9087 [==========================>...] - ETA: 5s - loss: 0.0461 - acc: 0.9845",
          "name": "stdout"
        }
      ]
    },
    {
      "metadata": {
        "trusted": true
      },
      "cell_type": "code",
      "source": "score= model.evaluate(y, y_test, verbose = 2)\nprint(\"Loss: %.2f\" % score[0])\nprint(\"Accuracy: %.2f\" % score[1])",
      "execution_count": 14,
      "outputs": [
        {
          "output_type": "stream",
          "text": "Loss: 0.20\nAccuracy: 0.94\n",
          "name": "stdout"
        }
      ]
    },
    {
      "metadata": {
        "trusted": true
      },
      "cell_type": "code",
      "source": "prediction = model.predict(x)",
      "execution_count": 162,
      "outputs": []
    },
    {
      "metadata": {
        "trusted": true
      },
      "cell_type": "code",
      "source": "print('Prediction value:', prediction[374])",
      "execution_count": 163,
      "outputs": [
        {
          "output_type": "stream",
          "text": "Prediction value: [0.9517962  0.44485503 0.45648408 0.19614866]\n",
          "name": "stdout"
        }
      ]
    },
    {
      "metadata": {
        "trusted": true
      },
      "cell_type": "code",
      "source": "z = tokenizer.texts_to_sequences(tf['tweet_content'].values)\nz = pad_sequences(z, maxlen=22, padding='post')",
      "execution_count": 147,
      "outputs": []
    },
    {
      "metadata": {
        "trusted": true
      },
      "cell_type": "code",
      "source": "pred=model.predict(z)\nprint('Prediction value:', pred[420])",
      "execution_count": 182,
      "outputs": [
        {
          "output_type": "stream",
          "text": "Prediction value: [0.6747369  0.19792125 0.34736517 0.02598023]\n",
          "name": "stdout"
        }
      ]
    },
    {
      "metadata": {
        "trusted": true
      },
      "cell_type": "code",
      "source": "for i in range(len(pred)):\n    tf.at[i,'Harassment']=int(0)\n    tf.at[i,'IndirectH']=int(0)\n    tf.at[i,'PhysicalH']=int(0)\n    tf.at[i,'SexualH']=int(0)\n    if pred[i,0]>=0.4:\n        tf.at[i,'Harassment']=1\n        t=np.argmax(pred[i,1:])\n        if t==2:\n            tf.at[i,'SexualH']=int(1)\n        elif t==1:\n            tf.at[i,'PhysicalH']=int(1)\n        elif t==0:\n            tf.at[i,'IndirectH']=int(1)",
      "execution_count": 184,
      "outputs": []
    },
    {
      "metadata": {
        "trusted": true
      },
      "cell_type": "code",
      "source": "tf[420:431]",
      "execution_count": 185,
      "outputs": [
        {
          "output_type": "execute_result",
          "execution_count": 185,
          "data": {
            "text/html": "<div>\n<table border=\"1\" class=\"dataframe\">\n  <thead>\n    <tr style=\"text-align: right;\">\n      <th></th>\n      <th>tweet_content</th>\n      <th>Harassment</th>\n      <th>IndirectH</th>\n      <th>PhysicalH</th>\n      <th>SexualH</th>\n    </tr>\n  </thead>\n  <tbody>\n    <tr>\n      <th>420</th>\n      <td>naked girls fingering eachother beautiful girl...</td>\n      <td>1.0</td>\n      <td>0.0</td>\n      <td>1.0</td>\n      <td>0.0</td>\n    </tr>\n    <tr>\n      <th>421</th>\n      <td>naked girls vigina sexy swedish men pics</td>\n      <td>1.0</td>\n      <td>0.0</td>\n      <td>0.0</td>\n      <td>1.0</td>\n    </tr>\n    <tr>\n      <th>422</th>\n      <td>naked pillow fights nude girls in the farm</td>\n      <td>0.0</td>\n      <td>0.0</td>\n      <td>0.0</td>\n      <td>0.0</td>\n    </tr>\n    <tr>\n      <th>423</th>\n      <td>nanuqsaurus was a tyrannosaur from the late cr...</td>\n      <td>0.0</td>\n      <td>0.0</td>\n      <td>0.0</td>\n      <td>0.0</td>\n    </tr>\n    <tr>\n      <th>424</th>\n      <td>nasa commanded voyager to fire its thrusters f...</td>\n      <td>0.0</td>\n      <td>0.0</td>\n      <td>0.0</td>\n      <td>0.0</td>\n    </tr>\n    <tr>\n      <th>425</th>\n      <td>nature at its best in troms norway by tommy si...</td>\n      <td>0.0</td>\n      <td>0.0</td>\n      <td>0.0</td>\n      <td>0.0</td>\n    </tr>\n    <tr>\n      <th>426</th>\n      <td>nawww im the last person to criticize other pp...</td>\n      <td>0.0</td>\n      <td>0.0</td>\n      <td>0.0</td>\n      <td>0.0</td>\n    </tr>\n    <tr>\n      <th>427</th>\n      <td>nba young boy has a shitty ass personality his...</td>\n      <td>1.0</td>\n      <td>0.0</td>\n      <td>1.0</td>\n      <td>0.0</td>\n    </tr>\n    <tr>\n      <th>428</th>\n      <td>nba youngboy beat his gf ass blacked her eye a...</td>\n      <td>1.0</td>\n      <td>0.0</td>\n      <td>0.0</td>\n      <td>1.0</td>\n    </tr>\n    <tr>\n      <th>429</th>\n      <td>need a bitch who know algebra</td>\n      <td>1.0</td>\n      <td>0.0</td>\n      <td>0.0</td>\n      <td>1.0</td>\n    </tr>\n    <tr>\n      <th>430</th>\n      <td>neutral sex wet girls naked fucked while lap d...</td>\n      <td>1.0</td>\n      <td>0.0</td>\n      <td>1.0</td>\n      <td>0.0</td>\n    </tr>\n  </tbody>\n</table>\n</div>",
            "text/plain": "                                         tweet_content  Harassment  IndirectH  \\\n420  naked girls fingering eachother beautiful girl...         1.0        0.0   \n421           naked girls vigina sexy swedish men pics         1.0        0.0   \n422         naked pillow fights nude girls in the farm         0.0        0.0   \n423  nanuqsaurus was a tyrannosaur from the late cr...         0.0        0.0   \n424  nasa commanded voyager to fire its thrusters f...         0.0        0.0   \n425  nature at its best in troms norway by tommy si...         0.0        0.0   \n426  nawww im the last person to criticize other pp...         0.0        0.0   \n427  nba young boy has a shitty ass personality his...         1.0        0.0   \n428  nba youngboy beat his gf ass blacked her eye a...         1.0        0.0   \n429                      need a bitch who know algebra         1.0        0.0   \n430  neutral sex wet girls naked fucked while lap d...         1.0        0.0   \n\n     PhysicalH  SexualH  \n420        1.0      0.0  \n421        0.0      1.0  \n422        0.0      0.0  \n423        0.0      0.0  \n424        0.0      0.0  \n425        0.0      0.0  \n426        0.0      0.0  \n427        1.0      0.0  \n428        0.0      1.0  \n429        0.0      1.0  \n430        1.0      0.0  "
          },
          "metadata": {}
        }
      ]
    },
    {
      "metadata": {
        "trusted": true
      },
      "cell_type": "code",
      "source": "model.save('model(2).h5')",
      "execution_count": 49,
      "outputs": []
    },
    {
      "metadata": {
        "trusted": true
      },
      "cell_type": "code",
      "source": "tf.to_csv('~/library/testset-competition-result(8).csv')",
      "execution_count": 186,
      "outputs": []
    },
    {
      "metadata": {
        "trusted": true
      },
      "cell_type": "code",
      "source": "from keras.utils import plot_model\nplot_model(model, to_file='model.png')",
      "execution_count": 140,
      "outputs": []
    },
    {
      "metadata": {
        "trusted": true
      },
      "cell_type": "code",
      "source": "",
      "execution_count": null,
      "outputs": []
    }
  ],
  "metadata": {
    "kernelspec": {
      "name": "python3",
      "display_name": "Python 3",
      "language": "python"
    },
    "language_info": {
      "mimetype": "text/x-python",
      "nbconvert_exporter": "python",
      "name": "python",
      "pygments_lexer": "ipython3",
      "version": "3.5.4",
      "file_extension": ".py",
      "codemirror_mode": {
        "version": 3,
        "name": "ipython"
      }
    }
  },
  "nbformat": 4,
  "nbformat_minor": 2
}